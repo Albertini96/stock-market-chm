{
 "cells": [
  {
   "cell_type": "code",
   "execution_count": 105,
   "metadata": {},
   "outputs": [],
   "source": [
    "from data_retriever import DataRetriever\n",
    "from pre_processing import PreProcessing\n",
    "from scalers.min_max import MinMax\n",
    "from regressors.lstm_regressor import LSTMRegressor\n",
    "from regressors.esn_regressor import ESNRegressor\n",
    "from decomposers.wavelet_transform import WaveletDecomposition\n",
    "from decomposers.hilbert_huang     import EMDDecomposition\n",
    "from chm.chm import CascadeHierarquicalModel\n",
    "import config\n",
    "import pandas as pd\n",
    "import numpy as np\n",
    "from statsmodels.tsa.stattools import adfuller\n",
    "from regressors.ann_regressor import ANNRegressor\n",
    "from sklearn.model_selection import train_test_split\n",
    "from matplotlib import pyplot as plt\n",
    "from sklearn.metrics import mean_absolute_percentage_error as mape\n",
    "from sklearn.metrics import mean_absolute_error as mae\n",
    "from sklearn.metrics import mean_squared_error as mse\n",
    "from sklearn.metrics import r2_score\n",
    "\n",
    "from math import sqrt\n",
    "import os\n",
    "import warnings\n",
    "from IPython.display import display, Markdown\n",
    "warnings.filterwarnings(\"ignore\")"
   ]
  },
  {
   "cell_type": "code",
   "execution_count": 38,
   "metadata": {},
   "outputs": [
    {
     "name": "stdout",
     "output_type": "stream",
     "text": [
      "[*********************100%***********************]  24 of 24 completed\n"
     ]
    }
   ],
   "source": [
    "#Retrieving data from yahoo API\n",
    "a = DataRetriever()\n",
    "a.get_yahoo_stock_data()\n",
    "\n",
    "#Obtaining yahoo dataset\n",
    "dataset = a.get_stock_ds()\n",
    "\n",
    "#Preprocessing yahoo data\n",
    "pp = PreProcessing(dataset, MinMax)\n",
    "ds = pp.pre_process_once()\n",
    "\n",
    "#Setting up column to be used as features\n",
    "x_cols = ds.columns.difference(['Date'])\n"
   ]
  },
  {
   "cell_type": "markdown",
   "metadata": {},
   "source": [
    "# RMSE"
   ]
  },
  {
   "cell_type": "code",
   "execution_count": 107,
   "metadata": {},
   "outputs": [
    {
     "data": {
      "text/markdown": [
       "# ABEV3.SA"
      ],
      "text/plain": [
       "<IPython.core.display.Markdown object>"
      ]
     },
     "metadata": {},
     "output_type": "display_data"
    },
    {
     "data": {
      "image/png": "[encoded data removed]",
      "text/plain": [
       "<Figure size 432x288 with 1 Axes>"
      ]
     },
     "metadata": {
      "needs_background": "light"
     },
     "output_type": "display_data"
    },
    {
     "data": {
      "text/html": [
       "<div>\n",
       "<style scoped>\n",
       "    .dataframe tbody tr th:only-of-type {\n",
       "        vertical-align: middle;\n",
       "    }\n",
       "\n",
       "    .dataframe tbody tr th {\n",
       "        vertical-align: top;\n",
       "    }\n",
       "\n",
       "    .dataframe thead th {\n",
       "        text-align: right;\n",
       "    }\n",
       "</style>\n",
       "<table border=\"1\" class=\"dataframe\">\n",
       "  <thead>\n",
       "    <tr style=\"text-align: right;\">\n",
       "      <th></th>\n",
       "      <th>LSTM-EMD</th>\n",
       "      <th>CHM-LSTM-EMD-Freq</th>\n",
       "      <th>CHM-LSTM-DWT</th>\n",
       "      <th>CHM-ESN-DWT</th>\n",
       "      <th>CHM-LSTM-EMD</th>\n",
       "      <th>CHM-ESN-EMD</th>\n",
       "      <th>CHM-ESN-EMD-Freq</th>\n",
       "      <th>LSTM-DWT</th>\n",
       "      <th>ESN-EMD-Freq</th>\n",
       "    </tr>\n",
       "    <tr>\n",
       "      <th>KFOLD</th>\n",
       "      <th></th>\n",
       "      <th></th>\n",
       "      <th></th>\n",
       "      <th></th>\n",
       "      <th></th>\n",
       "      <th></th>\n",
       "      <th></th>\n",
       "      <th></th>\n",
       "      <th></th>\n",
       "    </tr>\n",
       "  </thead>\n",
       "  <tbody>\n",
       "    <tr>\n",
       "      <th>2010-2013T-2014V</th>\n",
       "      <td>0.570102</td>\n",
       "      <td>0.857368</td>\n",
       "      <td>0.635468</td>\n",
       "      <td>1.317684</td>\n",
       "      <td>0.638719</td>\n",
       "      <td>1.538772</td>\n",
       "      <td>2.525669</td>\n",
       "      <td>0.871265</td>\n",
       "      <td>0.671345</td>\n",
       "    </tr>\n",
       "    <tr>\n",
       "      <th>2013-2016T-2017V</th>\n",
       "      <td>4.729476</td>\n",
       "      <td>5.377555</td>\n",
       "      <td>4.301499</td>\n",
       "      <td>3.866751</td>\n",
       "      <td>4.311610</td>\n",
       "      <td>3.800300</td>\n",
       "      <td>6.689180</td>\n",
       "      <td>4.315298</td>\n",
       "      <td>4.516228</td>\n",
       "    </tr>\n",
       "  </tbody>\n",
       "</table>\n",
       "</div>"
      ],
      "text/plain": [
       "                  LSTM-EMD  CHM-LSTM-EMD-Freq  CHM-LSTM-DWT  CHM-ESN-DWT  \\\n",
       "KFOLD                                                                      \n",
       "2010-2013T-2014V  0.570102           0.857368      0.635468     1.317684   \n",
       "2013-2016T-2017V  4.729476           5.377555      4.301499     3.866751   \n",
       "\n",
       "                  CHM-LSTM-EMD  CHM-ESN-EMD  CHM-ESN-EMD-Freq  LSTM-DWT  \\\n",
       "KFOLD                                                                     \n",
       "2010-2013T-2014V      0.638719     1.538772          2.525669  0.871265   \n",
       "2013-2016T-2017V      4.311610     3.800300          6.689180  4.315298   \n",
       "\n",
       "                  ESN-EMD-Freq  \n",
       "KFOLD                           \n",
       "2010-2013T-2014V      0.671345  \n",
       "2013-2016T-2017V      4.516228  "
      ]
     },
     "metadata": {},
     "output_type": "display_data"
    }
   ],
   "source": [
    "\n",
    "kfolds_dict = config.Config.k_fold_variations\n",
    "until = 9999999\n",
    "\n",
    "for pred_ticker in ['ABEV3.SA']:#config.Config.ticker_stock_market_map['B3']: \n",
    "    \n",
    "    display(Markdown('# '+ pred_ticker))\n",
    "    #Setting up column to be predicted\n",
    "    y_cols = pred_ticker  + '_Close'\n",
    "\n",
    "    predicted_ds_acc = pd.DataFrame()\n",
    "\n",
    "    for kfold in ['2010-2013T-2014V', '2013-2016T-2017V']:#kfolds_dict.keys():\n",
    "            \n",
    "        test = ds[ds.apply(lambda x: (x['Date'].year == kfolds_dict[kfold]['validation_year']), axis=1)]\n",
    "        ground_truth = pp._scalers[y_cols].inverse_transform(test[7:][y_cols].values.reshape(-1,1))\n",
    "        ground_truth = ground_truth.ravel()\n",
    "        \n",
    "        predicted_ds = pd.read_csv('./results_comp/' + kfold + '_' + pred_ticker +'.csv')\n",
    "\n",
    "        predict_temp = pd.DataFrame(columns= list(predicted_ds.columns) + ['KFOLD'])\n",
    "        predict_temp.loc[predict_temp.shape[0]] = [None for i in predict_temp.columns]\n",
    "        predict_temp['KFOLD'] = kfold\n",
    "        \n",
    "        for col in predicted_ds.columns:\n",
    "            predict_temp[col] = sqrt(mse(predicted_ds[col][:until], ground_truth[:until]))\n",
    "\n",
    "        predicted_ds_acc = predicted_ds_acc.append(predict_temp)\n",
    "\n",
    "\n",
    "    predicted_ds_acc.index = predicted_ds_acc['KFOLD']\n",
    "    predicted_ds_acc = predicted_ds_acc.drop(['KFOLD'], axis=1)\n",
    "    predicted_ds_acc.plot.bar()\n",
    "    plt.show()\n",
    "    display(predicted_ds_acc)\n",
    "           "
   ]
  },
  {
   "cell_type": "code",
   "execution_count": null,
   "metadata": {},
   "outputs": [],
   "source": []
  },
  {
   "cell_type": "markdown",
   "metadata": {},
   "source": [
    "# MAPE"
   ]
  },
  {
   "cell_type": "code",
   "execution_count": 103,
   "metadata": {},
   "outputs": [
    {
     "data": {
      "text/markdown": [
       "# ABEV3.SA"
      ],
      "text/plain": [
       "<IPython.core.display.Markdown object>"
      ]
     },
     "metadata": {},
     "output_type": "display_data"
    },
    {
     "data": {
      "image/png": "[encoded data removed]",
      "text/plain": [
       "<Figure size 432x288 with 1 Axes>"
      ]
     },
     "metadata": {
      "needs_background": "light"
     },
     "output_type": "display_data"
    },
    {
     "data": {
      "text/html": [
       "<div>\n",
       "<style scoped>\n",
       "    .dataframe tbody tr th:only-of-type {\n",
       "        vertical-align: middle;\n",
       "    }\n",
       "\n",
       "    .dataframe tbody tr th {\n",
       "        vertical-align: top;\n",
       "    }\n",
       "\n",
       "    .dataframe thead th {\n",
       "        text-align: right;\n",
       "    }\n",
       "</style>\n",
       "<table border=\"1\" class=\"dataframe\">\n",
       "  <thead>\n",
       "    <tr style=\"text-align: right;\">\n",
       "      <th></th>\n",
       "      <th>LSTM-EMD</th>\n",
       "      <th>CHM-LSTM-EMD-Freq</th>\n",
       "      <th>CHM-LSTM-DWT</th>\n",
       "      <th>CHM-ESN-DWT</th>\n",
       "      <th>CHM-LSTM-EMD</th>\n",
       "      <th>CHM-ESN-EMD</th>\n",
       "      <th>CHM-ESN-EMD-Freq</th>\n",
       "      <th>LSTM-DWT</th>\n",
       "      <th>ESN-EMD-Freq</th>\n",
       "    </tr>\n",
       "    <tr>\n",
       "      <th>KFOLD</th>\n",
       "      <th></th>\n",
       "      <th></th>\n",
       "      <th></th>\n",
       "      <th></th>\n",
       "      <th></th>\n",
       "      <th></th>\n",
       "      <th></th>\n",
       "      <th></th>\n",
       "      <th></th>\n",
       "    </tr>\n",
       "  </thead>\n",
       "  <tbody>\n",
       "    <tr>\n",
       "      <th>2010-2013T-2014V</th>\n",
       "      <td>0.044162</td>\n",
       "      <td>0.072055</td>\n",
       "      <td>0.015576</td>\n",
       "      <td>0.035700</td>\n",
       "      <td>0.012111</td>\n",
       "      <td>0.07680</td>\n",
       "      <td>0.168634</td>\n",
       "      <td>0.058265</td>\n",
       "      <td>0.033287</td>\n",
       "    </tr>\n",
       "    <tr>\n",
       "      <th>2013-2016T-2017V</th>\n",
       "      <td>0.283511</td>\n",
       "      <td>0.346866</td>\n",
       "      <td>0.264277</td>\n",
       "      <td>0.256919</td>\n",
       "      <td>0.256803</td>\n",
       "      <td>0.27313</td>\n",
       "      <td>0.411801</td>\n",
       "      <td>0.244389</td>\n",
       "      <td>0.290337</td>\n",
       "    </tr>\n",
       "  </tbody>\n",
       "</table>\n",
       "</div>"
      ],
      "text/plain": [
       "                  LSTM-EMD  CHM-LSTM-EMD-Freq  CHM-LSTM-DWT  CHM-ESN-DWT  \\\n",
       "KFOLD                                                                      \n",
       "2010-2013T-2014V  0.044162           0.072055      0.015576     0.035700   \n",
       "2013-2016T-2017V  0.283511           0.346866      0.264277     0.256919   \n",
       "\n",
       "                  CHM-LSTM-EMD  CHM-ESN-EMD  CHM-ESN-EMD-Freq  LSTM-DWT  \\\n",
       "KFOLD                                                                     \n",
       "2010-2013T-2014V      0.012111      0.07680          0.168634  0.058265   \n",
       "2013-2016T-2017V      0.256803      0.27313          0.411801  0.244389   \n",
       "\n",
       "                  ESN-EMD-Freq  \n",
       "KFOLD                           \n",
       "2010-2013T-2014V      0.033287  \n",
       "2013-2016T-2017V      0.290337  "
      ]
     },
     "metadata": {},
     "output_type": "display_data"
    }
   ],
   "source": [
    "for pred_ticker in ['ABEV3.SA']:#config.Config.ticker_stock_market_map['B3']: \n",
    "    \n",
    "    display(Markdown('# '+ pred_ticker))\n",
    "    #Setting up column to be predicted\n",
    "    y_cols = pred_ticker  + '_Close'\n",
    "\n",
    "    predicted_ds_acc = pd.DataFrame()\n",
    "\n",
    "    for kfold in ['2010-2013T-2014V', '2013-2016T-2017V']:#kfolds_dict.keys():\n",
    "            \n",
    "        test = ds[ds.apply(lambda x: (x['Date'].year == kfolds_dict[kfold]['validation_year']), axis=1)]\n",
    "        ground_truth = pp._scalers[y_cols].inverse_transform(test[7:][y_cols].values.reshape(-1,1))\n",
    "        ground_truth = ground_truth.ravel()\n",
    "        \n",
    "        predicted_ds = pd.read_csv('./results_comp/' + kfold + '_' + pred_ticker +'.csv')\n",
    "\n",
    "        predict_temp = pd.DataFrame(columns= list(predicted_ds.columns) + ['KFOLD'])\n",
    "        predict_temp.loc[predict_temp.shape[0]] = [None for i in predict_temp.columns]\n",
    "        predict_temp['KFOLD'] = kfold\n",
    "        \n",
    "        for col in predicted_ds.columns:\n",
    "            predict_temp[col] = mape(predicted_ds[col][:until], ground_truth[:until])\n",
    "\n",
    "        predicted_ds_acc = predicted_ds_acc.append(predict_temp)\n",
    "\n",
    "\n",
    "    predicted_ds_acc.index = predicted_ds_acc['KFOLD']\n",
    "    predicted_ds_acc = predicted_ds_acc.drop(['KFOLD'], axis=1)\n",
    "    predicted_ds_acc.plot.bar()\n",
    "    plt.show()\n",
    "    display(predicted_ds_acc)"
   ]
  },
  {
   "cell_type": "code",
   "execution_count": null,
   "metadata": {},
   "outputs": [],
   "source": []
  },
  {
   "cell_type": "code",
   "execution_count": null,
   "metadata": {},
   "outputs": [],
   "source": []
  },
  {
   "cell_type": "markdown",
   "metadata": {},
   "source": [
    "# MAE"
   ]
  },
  {
   "cell_type": "code",
   "execution_count": 106,
   "metadata": {},
   "outputs": [
    {
     "data": {
      "text/markdown": [
       "# ABEV3.SA"
      ],
      "text/plain": [
       "<IPython.core.display.Markdown object>"
      ]
     },
     "metadata": {},
     "output_type": "display_data"
    },
    {
     "data": {
      "image/png": "[encoded data removed]",
      "text/plain": [
       "<Figure size 432x288 with 1 Axes>"
      ]
     },
     "metadata": {
      "needs_background": "light"
     },
     "output_type": "display_data"
    },
    {
     "data": {
      "text/html": [
       "<div>\n",
       "<style scoped>\n",
       "    .dataframe tbody tr th:only-of-type {\n",
       "        vertical-align: middle;\n",
       "    }\n",
       "\n",
       "    .dataframe tbody tr th {\n",
       "        vertical-align: top;\n",
       "    }\n",
       "\n",
       "    .dataframe thead th {\n",
       "        text-align: right;\n",
       "    }\n",
       "</style>\n",
       "<table border=\"1\" class=\"dataframe\">\n",
       "  <thead>\n",
       "    <tr style=\"text-align: right;\">\n",
       "      <th></th>\n",
       "      <th>LSTM-EMD</th>\n",
       "      <th>CHM-LSTM-EMD-Freq</th>\n",
       "      <th>CHM-LSTM-DWT</th>\n",
       "      <th>CHM-ESN-DWT</th>\n",
       "      <th>CHM-LSTM-EMD</th>\n",
       "      <th>CHM-ESN-EMD</th>\n",
       "      <th>CHM-ESN-EMD-Freq</th>\n",
       "      <th>LSTM-DWT</th>\n",
       "      <th>ESN-EMD-Freq</th>\n",
       "    </tr>\n",
       "    <tr>\n",
       "      <th>KFOLD</th>\n",
       "      <th></th>\n",
       "      <th></th>\n",
       "      <th></th>\n",
       "      <th></th>\n",
       "      <th></th>\n",
       "      <th></th>\n",
       "      <th></th>\n",
       "      <th></th>\n",
       "      <th></th>\n",
       "    </tr>\n",
       "  </thead>\n",
       "  <tbody>\n",
       "    <tr>\n",
       "      <th>2010-2013T-2014V</th>\n",
       "      <td>0.519853</td>\n",
       "      <td>0.804175</td>\n",
       "      <td>0.187026</td>\n",
       "      <td>0.440207</td>\n",
       "      <td>0.147987</td>\n",
       "      <td>0.951978</td>\n",
       "      <td>1.693932</td>\n",
       "      <td>0.731564</td>\n",
       "      <td>0.389166</td>\n",
       "    </tr>\n",
       "    <tr>\n",
       "      <th>2013-2016T-2017V</th>\n",
       "      <td>3.367052</td>\n",
       "      <td>3.939663</td>\n",
       "      <td>3.207301</td>\n",
       "      <td>3.126060</td>\n",
       "      <td>3.136357</td>\n",
       "      <td>3.233594</td>\n",
       "      <td>4.222457</td>\n",
       "      <td>2.978682</td>\n",
       "      <td>3.445608</td>\n",
       "    </tr>\n",
       "  </tbody>\n",
       "</table>\n",
       "</div>"
      ],
      "text/plain": [
       "                  LSTM-EMD  CHM-LSTM-EMD-Freq  CHM-LSTM-DWT  CHM-ESN-DWT  \\\n",
       "KFOLD                                                                      \n",
       "2010-2013T-2014V  0.519853           0.804175      0.187026     0.440207   \n",
       "2013-2016T-2017V  3.367052           3.939663      3.207301     3.126060   \n",
       "\n",
       "                  CHM-LSTM-EMD  CHM-ESN-EMD  CHM-ESN-EMD-Freq  LSTM-DWT  \\\n",
       "KFOLD                                                                     \n",
       "2010-2013T-2014V      0.147987     0.951978          1.693932  0.731564   \n",
       "2013-2016T-2017V      3.136357     3.233594          4.222457  2.978682   \n",
       "\n",
       "                  ESN-EMD-Freq  \n",
       "KFOLD                           \n",
       "2010-2013T-2014V      0.389166  \n",
       "2013-2016T-2017V      3.445608  "
      ]
     },
     "metadata": {},
     "output_type": "display_data"
    }
   ],
   "source": [
    "for pred_ticker in ['ABEV3.SA']:#config.Config.ticker_stock_market_map['B3']: \n",
    "    \n",
    "    display(Markdown('# '+ pred_ticker))\n",
    "    #Setting up column to be predicted\n",
    "    y_cols = pred_ticker  + '_Close'\n",
    "\n",
    "    predicted_ds_acc = pd.DataFrame()\n",
    "\n",
    "    for kfold in ['2010-2013T-2014V', '2013-2016T-2017V']:#kfolds_dict.keys():\n",
    "            \n",
    "        test = ds[ds.apply(lambda x: (x['Date'].year == kfolds_dict[kfold]['validation_year']), axis=1)]\n",
    "        ground_truth = pp._scalers[y_cols].inverse_transform(test[7:][y_cols].values.reshape(-1,1))\n",
    "        ground_truth = ground_truth.ravel()\n",
    "        \n",
    "        predicted_ds = pd.read_csv('./results_comp/' + kfold + '_' + pred_ticker +'.csv')\n",
    "\n",
    "        predict_temp = pd.DataFrame(columns= list(predicted_ds.columns) + ['KFOLD'])\n",
    "        predict_temp.loc[predict_temp.shape[0]] = [None for i in predict_temp.columns]\n",
    "        predict_temp['KFOLD'] = kfold\n",
    "        \n",
    "        for col in predicted_ds.columns:\n",
    "            predict_temp[col] = mae(predicted_ds[col][:until], ground_truth[:until])\n",
    "\n",
    "        predicted_ds_acc = predicted_ds_acc.append(predict_temp)\n",
    "\n",
    "\n",
    "    predicted_ds_acc.index = predicted_ds_acc['KFOLD']\n",
    "    predicted_ds_acc = predicted_ds_acc.drop(['KFOLD'], axis=1)\n",
    "    predicted_ds_acc.plot.bar()\n",
    "    plt.show()\n",
    "    display(predicted_ds_acc)"
   ]
  },
  {
   "cell_type": "code",
   "execution_count": null,
   "metadata": {},
   "outputs": [],
   "source": []
  }
 ],
 "metadata": {
  "interpreter": {
   "hash": "3ae4ca79f28d94746ca1e5c20c0c40afd365a28020698a392ef136b783d81a51"
  },
  "kernelspec": {
   "display_name": "Python 3 (ipykernel)",
   "language": "python",
   "name": "python3"
  },
  "language_info": {
   "codemirror_mode": {
    "name": "ipython",
    "version": 3
   },
   "file_extension": ".py",
   "mimetype": "text/x-python",
   "name": "python",
   "nbconvert_exporter": "python",
   "pygments_lexer": "ipython3",
   "version": "3.9.6"
  }
 },
 "nbformat": 4,
 "nbformat_minor": 2
}
