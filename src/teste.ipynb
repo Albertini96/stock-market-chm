{
 "cells": [
  {
   "cell_type": "code",
   "execution_count": null,
   "metadata": {},
   "outputs": [],
   "source": [
    "2+2"
   ]
  },
  {
   "cell_type": "code",
   "execution_count": 1,
   "metadata": {},
   "outputs": [],
   "source": [
    "from data_retriever import DataRetriever\n",
    "from pre_processing import PreProcessing\n",
    "from scalers.min_max import MinMax\n",
    "from regressors.lstm_regressor import LSTMRegressor\n",
    "import pandas as pd\n",
    "from model_evaluator import ModelEvaluator"
   ]
  },
  {
   "cell_type": "code",
   "execution_count": 3,
   "metadata": {},
   "outputs": [
    {
     "ename": "NameError",
     "evalue": "name 'DataRetriever' is not defined",
     "output_type": "error",
     "traceback": [
      "\u001b[1;31m---------------------------------------------------------------------------\u001b[0m",
      "\u001b[1;31mNameError\u001b[0m                                 Traceback (most recent call last)",
      "\u001b[1;32m~\\AppData\\Local\\Temp/ipykernel_13768/1498831779.py\u001b[0m in \u001b[0;36m<module>\u001b[1;34m\u001b[0m\n\u001b[0;32m      1\u001b[0m \u001b[1;31m#Obtaining stock market data\u001b[0m\u001b[1;33m\u001b[0m\u001b[1;33m\u001b[0m\u001b[1;33m\u001b[0m\u001b[0m\n\u001b[1;32m----> 2\u001b[1;33m \u001b[0ma\u001b[0m \u001b[1;33m=\u001b[0m \u001b[0mDataRetriever\u001b[0m\u001b[1;33m(\u001b[0m\u001b[1;33m)\u001b[0m\u001b[1;33m\u001b[0m\u001b[1;33m\u001b[0m\u001b[0m\n\u001b[0m\u001b[0;32m      3\u001b[0m \u001b[0ma\u001b[0m\u001b[1;33m.\u001b[0m\u001b[0mget_yahoo_stock_data\u001b[0m\u001b[1;33m(\u001b[0m\u001b[1;33m)\u001b[0m\u001b[1;33m\u001b[0m\u001b[1;33m\u001b[0m\u001b[0m\n\u001b[0;32m      4\u001b[0m \u001b[0mb\u001b[0m \u001b[1;33m=\u001b[0m \u001b[0ma\u001b[0m\u001b[1;33m.\u001b[0m\u001b[0mget_stock_ds\u001b[0m\u001b[1;33m(\u001b[0m\u001b[1;33m)\u001b[0m\u001b[1;33m\u001b[0m\u001b[1;33m\u001b[0m\u001b[0m\n\u001b[0;32m      5\u001b[0m \u001b[0mx_cols_\u001b[0m \u001b[1;33m=\u001b[0m \u001b[1;33m[\u001b[0m\u001b[0mx\u001b[0m \u001b[1;32mfor\u001b[0m \u001b[0mx\u001b[0m \u001b[1;32min\u001b[0m \u001b[0mb\u001b[0m\u001b[1;33m.\u001b[0m\u001b[0mcolumns\u001b[0m\u001b[1;33m.\u001b[0m\u001b[0mdifference\u001b[0m\u001b[1;33m(\u001b[0m\u001b[1;33m[\u001b[0m\u001b[1;34m'Date'\u001b[0m\u001b[1;33m]\u001b[0m\u001b[1;33m)\u001b[0m \u001b[1;32mif\u001b[0m \u001b[0mx\u001b[0m\u001b[1;33m[\u001b[0m\u001b[1;33m-\u001b[0m\u001b[1;36m5\u001b[0m\u001b[1;33m:\u001b[0m\u001b[1;33m]\u001b[0m \u001b[1;33m==\u001b[0m \u001b[1;34m'Close'\u001b[0m\u001b[1;33m]\u001b[0m\u001b[1;33m\u001b[0m\u001b[1;33m\u001b[0m\u001b[0m\n",
      "\u001b[1;31mNameError\u001b[0m: name 'DataRetriever' is not defined"
     ]
    }
   ],
   "source": [
    "#Obtaining stock market data\n",
    "a = DataRetriever()\n",
    "a.get_yahoo_stock_data()   \n",
    "b = a.get_stock_ds()\n",
    "x_cols_ = [x for x in b.columns.difference(['Date']) if x[-5:] == 'Close']\n",
    "\n",
    "for i in x_cols_:\n",
    "    b = a.get_stock_ds()\n",
    "    print('Learning to predict stock : ' + i)\n",
    "    y_cols = i\n",
    "    x_cols = b.columns.difference(['Date'] + list(y_cols))\n",
    "\n",
    "    pp = PreProcessing(b, MinMax)\n",
    "    train, test = pp.pre_process()\n",
    "\n",
    "    reg = LSTMRegressor(train, x_cols, y_cols, 7, len(x_cols), 40)\n",
    "    reg.fit_generator()\n",
    "\n",
    "    reg_pred = reg.predict_generator(test)\n",
    "    reg_pred = pp._scalers[y_cols].inverse_transform(reg_pred)\n",
    "    pred = pd.DataFrame(reg_pred)\n",
    "    pred.columns = ['Prediction']\n",
    "\n",
    "    begin_idx  = len(b) - len(pred)\n",
    "    finish_idx = len(b) - 1\n",
    "\n",
    "    pred.index = list(range(begin_idx, finish_idx + 1))\n",
    "\n",
    "    b = b.join(pred)\n",
    "\n",
    "    me = ModelEvaluator('LSTM', b, 'Prediction', y_cols, 'Date')\n",
    "    me.plot_results(False, True)"
   ]
  },
  {
   "cell_type": "code",
   "execution_count": null,
   "metadata": {},
   "outputs": [],
   "source": []
  }
 ],
 "metadata": {
  "interpreter": {
   "hash": "3ae4ca79f28d94746ca1e5c20c0c40afd365a28020698a392ef136b783d81a51"
  },
  "kernelspec": {
   "display_name": "Python 3.9.6 64-bit ('imp-virtual-env': venv)",
   "name": "python3"
  },
  "language_info": {
   "codemirror_mode": {
    "name": "ipython",
    "version": 3
   },
   "file_extension": ".py",
   "mimetype": "text/x-python",
   "name": "python",
   "nbconvert_exporter": "python",
   "pygments_lexer": "ipython3",
   "version": "3.9.6"
  },
  "orig_nbformat": 4
 },
 "nbformat": 4,
 "nbformat_minor": 2
}
