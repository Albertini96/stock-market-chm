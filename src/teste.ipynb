{
 "cells": [
  {
   "cell_type": "code",
   "execution_count": null,
   "source": [],
   "outputs": [],
   "metadata": {}
  },
  {
   "cell_type": "code",
   "execution_count": 1,
   "source": [
    "from data_retriever import DataRetriever\r\n",
    "from pre_processing import PreProcessing as pp\r\n",
    "import pandas_ta as ta\r\n",
    "import config\r\n",
    "from helpers import Helper as hp"
   ],
   "outputs": [],
   "metadata": {}
  }
 ],
 "metadata": {
  "orig_nbformat": 4,
  "language_info": {
   "name": "python",
   "version": "3.9.6",
   "mimetype": "text/x-python",
   "codemirror_mode": {
    "name": "ipython",
    "version": 3
   },
   "pygments_lexer": "ipython3",
   "nbconvert_exporter": "python",
   "file_extension": ".py"
  },
  "kernelspec": {
   "name": "python3",
   "display_name": "Python 3.9.6 64-bit ('imp-virtual-env': venv)"
  },
  "interpreter": {
   "hash": "3ae4ca79f28d94746ca1e5c20c0c40afd365a28020698a392ef136b783d81a51"
  }
 },
 "nbformat": 4,
 "nbformat_minor": 2
}